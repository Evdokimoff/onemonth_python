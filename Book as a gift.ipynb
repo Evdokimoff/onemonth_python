{
 "cells": [
  {
   "cell_type": "code",
   "execution_count": 7,
   "metadata": {
    "scrolled": true
   },
   "outputs": [
    {
     "name": "stdout",
     "output_type": "stream",
     "text": [
      "Please enter the name of your friend: K\n",
      "What book you can gift to K?\n",
      "You can gift to K the book Binging with Babish: 100 Recipes Recreated from…\n"
     ]
    }
   ],
   "source": [
    "\"\"\"This script takes the name of your friend \n",
    "and suggest you gift him the book \n",
    "from the top of most wished books\"\"\"\n",
    "\n",
    "import pandas as pd\n",
    "import random\n",
    "\n",
    "\"\"\"The most wished books was parsed from Amazon amazon.com/gp/most-wished-for/books. \n",
    "You can download it from my GitHub  \n",
    "https://github.com/Evdokimoff/onemonth_python/blob/master/https___www.amazon.com_gp_most.xlsx \n",
    "and then put it in the directory where you trying run the script.\"\"\"\n",
    "\n",
    "file = \"https___www.amazon.com_gp_most.xlsx\"\n",
    "df = pd.read_excel(file, sheet_name=0)\n",
    "books = df['Book'].tolist()\n",
    "friend_name=input(\"Please enter the name of your friend: \")\n",
    "print(f\"What book you can gift to {friend_name}?\")\n",
    "random_books = random.choice(books)\n",
    "print(f\"You can gift to {friend_name} the book {random_books}\")\n",
    "#We can also add to this result the link to buy"
   ]
  },
  {
   "cell_type": "code",
   "execution_count": null,
   "metadata": {},
   "outputs": [],
   "source": []
  },
  {
   "cell_type": "code",
   "execution_count": null,
   "metadata": {},
   "outputs": [],
   "source": []
  }
 ],
 "metadata": {
  "kernelspec": {
   "display_name": "Python 3",
   "language": "python",
   "name": "python3"
  },
  "language_info": {
   "codemirror_mode": {
    "name": "ipython",
    "version": 3
   },
   "file_extension": ".py",
   "mimetype": "text/x-python",
   "name": "python",
   "nbconvert_exporter": "python",
   "pygments_lexer": "ipython3",
   "version": "3.7.1"
  }
 },
 "nbformat": 4,
 "nbformat_minor": 2
}
