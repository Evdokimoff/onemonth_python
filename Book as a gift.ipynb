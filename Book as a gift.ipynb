{
 "cells": [
  {
   "cell_type": "code",
   "execution_count": null,
   "metadata": {},
   "outputs": [],
   "source": [
    "import pandas as pd\n",
    "import random\n",
    "#The most wished books was parsed from Amazon https://www.amazon.com/gp/most-wished-for/books\n",
    "file = \"https___www.amazon.com_gp_most.xlsx\"\n",
    "df = pd.read_excel(file, sheet_name=0)\n",
    "books = df['Book'].tolist()\n",
    "friend_name=input(\"Please enter the name of your friend: \")\n",
    "print(\"What book you can gift to {}?\".format(friend_name))\n",
    "random_books = random.choice(books)\n",
    "print(f\"You can gift to {friend_name} the book {random_books}\")"
   ]
  }
 ],
 "metadata": {
  "kernelspec": {
   "display_name": "Python 3",
   "language": "python",
   "name": "python3"
  },
  "language_info": {
   "codemirror_mode": {
    "name": "ipython",
    "version": 3
   },
   "file_extension": ".py",
   "mimetype": "text/x-python",
   "name": "python",
   "nbconvert_exporter": "python",
   "pygments_lexer": "ipython3",
   "version": "3.7.1"
  }
 },
 "nbformat": 4,
 "nbformat_minor": 2
}
