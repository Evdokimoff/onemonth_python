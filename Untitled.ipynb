{
 "cells": [
  {
   "cell_type": "code",
   "execution_count": 1,
   "metadata": {},
   "outputs": [
    {
     "name": "stdout",
     "output_type": "stream",
     "text": [
      "How about you to put on trousers coloured in yellow?\n"
     ]
    }
   ],
   "source": [
    "import random\n",
    "\n",
    "clothes = [\"Pants\",\n",
    "        \"skirt\",\n",
    "        \"boots\",\n",
    "        \"sweater\",\n",
    "        \"trousers\"]\n",
    "\n",
    "colour = [\"red\",\n",
    "          \"green\",\n",
    "          \"yellow\",\n",
    "          \"white\",\n",
    "          \"pink\",\n",
    "          \"red\"]\n",
    "\n",
    "random_clothes = random.choice(clothes)\n",
    "random_colour = random.choice(colour)\n",
    "\n",
    "\n",
    "print(f\"How about you to put on {random_clothes} coloured in {random_colour}?\")"
   ]
  },
  {
   "cell_type": "code",
   "execution_count": null,
   "metadata": {},
   "outputs": [],
   "source": []
  }
 ],
 "metadata": {
  "kernelspec": {
   "display_name": "Python 3",
   "language": "python",
   "name": "python3"
  },
  "language_info": {
   "codemirror_mode": {
    "name": "ipython",
    "version": 3
   },
   "file_extension": ".py",
   "mimetype": "text/x-python",
   "name": "python",
   "nbconvert_exporter": "python",
   "pygments_lexer": "ipython3",
   "version": "3.7.4"
  }
 },
 "nbformat": 4,
 "nbformat_minor": 2
}
