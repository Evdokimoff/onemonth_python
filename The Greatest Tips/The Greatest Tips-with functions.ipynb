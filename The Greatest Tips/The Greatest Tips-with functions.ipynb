{
 "cells": [
  {
   "cell_type": "code",
   "execution_count": 4,
   "metadata": {},
   "outputs": [
    {
     "name": "stdout",
     "output_type": "stream",
     "text": [
      "Please enter the amount of your bill: f\n"
     ]
    },
    {
     "ename": "ValueError",
     "evalue": "invalid literal for int() with base 10: 'f'",
     "output_type": "error",
     "traceback": [
      "\u001b[1;31m---------------------------------------------------------------------------\u001b[0m",
      "\u001b[1;31mValueError\u001b[0m                                Traceback (most recent call last)",
      "\u001b[1;32m<ipython-input-4-d5ef6ffae7f2>\u001b[0m in \u001b[0;36m<module>\u001b[1;34m\u001b[0m\n\u001b[0;32m      5\u001b[0m \u001b[0mBut\u001b[0m \u001b[1;32mif\u001b[0m \u001b[0myou\u001b[0m \u001b[0mwant\u001b[0m\u001b[1;33m,\u001b[0m \u001b[0myou\u001b[0m \u001b[0mcan\u001b[0m \u001b[0mleave\u001b[0m \u001b[0man\u001b[0m \u001b[0mextra\u001b[0m \u001b[0mtip\u001b[0m\u001b[1;33m.\u001b[0m\u001b[1;33m\u001b[0m\u001b[1;33m\u001b[0m\u001b[0m\n\u001b[0;32m      6\u001b[0m \"\"\"\n\u001b[1;32m----> 7\u001b[1;33m \u001b[0mbill\u001b[0m \u001b[1;33m=\u001b[0m \u001b[0mint\u001b[0m\u001b[1;33m(\u001b[0m\u001b[0minput\u001b[0m\u001b[1;33m(\u001b[0m\u001b[1;34m\"Please enter the amount of your bill: \"\u001b[0m\u001b[1;33m)\u001b[0m\u001b[1;33m)\u001b[0m \u001b[1;31m#We take the user's amount of bill\u001b[0m\u001b[1;33m\u001b[0m\u001b[1;33m\u001b[0m\u001b[0m\n\u001b[0m\u001b[0;32m      8\u001b[0m \u001b[0mtip_for_big\u001b[0m \u001b[1;33m=\u001b[0m \u001b[1;36m0.15\u001b[0m \u001b[1;31m#defining tip for the big amount\u001b[0m\u001b[1;33m\u001b[0m\u001b[1;33m\u001b[0m\u001b[0m\n\u001b[0;32m      9\u001b[0m \u001b[0mtip_for_mid\u001b[0m \u001b[1;33m=\u001b[0m \u001b[1;36m0.18\u001b[0m \u001b[1;31m#defining tip for the middle amount\u001b[0m\u001b[1;33m\u001b[0m\u001b[1;33m\u001b[0m\u001b[0m\n",
      "\u001b[1;31mValueError\u001b[0m: invalid literal for int() with base 10: 'f'"
     ]
    }
   ],
   "source": [
    "\"\"\"\n",
    "This program helps the user to decide how much he should tip.\n",
    "The principle is simple: the quality of service has a margin cost\n",
    "and percent of the amount not necessarily increase with increasing amount.\n",
    "But if you want, you can leave an extra tip.\n",
    "\"\"\"\n",
    "bill = int(input(\"Please enter the amount of your bill (in numbers): \")) #We take the user's amount of bill\n",
    "tip_for_big = 0.15 #defining tip for the big amount\n",
    "tip_for_mid = 0.18 #defining tip for the middle amount\n",
    "tip_for_bit = 0.20 #defining tip for the small amount\n",
    "def normal_bill\n",
    "if bill >0 and <1000000:\n",
    "    if bill < 50: #defining conditions for the small amount\n",
    "    tip = bill*tip_for_bit #if amount is small, we multiplies the bill on recommended percent\n",
    "    elif (bill > 50) or (bill < 101): #defining conditions for the middle amount\n",
    "    tip = bill*tip_for_mid #if amount is middle, we multiplies the bill on recommended percent\n",
    "    else: #if the amount is bigger than middle, we conduct it's as a big amount\n",
    "    tip = bill*tip_for_big #if amount is big, we multiplies the bill on recommended percent\n",
    "    print(f\"You should tip ${tip:.0f}\") #showing the recommended tip for user\n",
    "else:\n",
    "    bill = int(input(\"Something go wrong. Please enter the amount of your bill (in numbers): \"))\n",
    "#We take the user's input for the computation of extra tip\n",
    "extra_question = input(\"Do you want to leave the extra tip (+10%)? Answer YES or NO: \")\n",
    "\n",
    "if extra_question.lower() == \"yes\": #indentifying user's wish to extra tip\n",
    "    extra_tip = tip + (bill*0.1) #compute extra tip if user wants this\n",
    "    print(f\"You will be the greatest if tip ${extra_tip:.0f}\") #showing the recommended tip for user\n",
    "else: #if user don't want to extra tip, we return the regular tip\n",
    "    print(f\"Ok. You should tip ${tip:.0f}\") #showing the recommended tip for user"
   ]
  },
  {
   "cell_type": "code",
   "execution_count": null,
   "metadata": {},
   "outputs": [],
   "source": []
  }
 ],
 "metadata": {
  "kernelspec": {
   "display_name": "Python 3",
   "language": "python",
   "name": "python3"
  },
  "language_info": {
   "codemirror_mode": {
    "name": "ipython",
    "version": 3
   },
   "file_extension": ".py",
   "mimetype": "text/x-python",
   "name": "python",
   "nbconvert_exporter": "python",
   "pygments_lexer": "ipython3",
   "version": "3.7.4"
  }
 },
 "nbformat": 4,
 "nbformat_minor": 2
}
