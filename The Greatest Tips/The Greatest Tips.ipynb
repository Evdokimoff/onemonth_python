{
 "cells": [
  {
   "cell_type": "code",
   "execution_count": 5,
   "metadata": {},
   "outputs": [
    {
     "name": "stdout",
     "output_type": "stream",
     "text": [
      "Please enter the amount of your bill (in numbers): 45\n",
      "You should tip $9\n",
      "Do you want to leave the extra tip (+10%)? Answer YES or NO: YES\n",
      "You will be the greatest if tip $14\n"
     ]
    }
   ],
   "source": [
    "\"\"\"\n",
    "This program helps the user to decide how much he should tip.\n",
    "The principle is simple: the quality of service has a margin cost\n",
    "and percent of the amount not necessarily increase with increasing amount.\n",
    "But if you want, you can leave an extra tip.\n",
    "\"\"\"\n",
    "bill = int(input(\"Please enter the amount of your bill (in numbers): \")) #We take the user's amount of bill\n",
    "tip_for_big = 0.15 #defining tip for the big amount\n",
    "tip_for_mid = 0.18 #defining tip for the middle amount\n",
    "tip_for_bit = 0.20 #defining tip for the small amount\n",
    "\n",
    "if bill < 50: #defining conditions for the small amount\n",
    "    tip = bill*tip_for_bit #if amount is small, we multiplies the bill on recommended percent\n",
    "elif (bill > 50) or (bill < 101): #defining conditions for the middle amount\n",
    "    tip = bill*tip_for_mid #if amount is middle, we multiplies the bill on recommended percent\n",
    "else: #if the amount is bigger than middle, we conduct it's as a big amount\n",
    "    tip = bill*tip_for_big #if amount is big, we multiplies the bill on recommended percent\n",
    "print(f\"You should tip ${tip:.0f}\") #showing the recommended tip for user\n",
    "\n",
    "#We take the user's input for the computation of extra tip\n",
    "extra_question = input(\"Do you want to leave the extra tip (+10%)? Answer YES or NO: \")\n",
    "\n",
    "if extra_question.lower() == \"yes\": #indentifying user's wish to extra tip\n",
    "    extra_tip = tip + (bill*0.1) #compute extra tip if user wants this\n",
    "    print(f\"You will be the greatest if tip ${extra_tip:.0f}\") #showing the recommended tip for user\n",
    "else: #if user don't want to extra tip, we return the regular tip\n",
    "    print(f\"Ok. You should tip ${tip:.0f}\") #showing the recommended tip for user"
   ]
  },
  {
   "cell_type": "code",
   "execution_count": null,
   "metadata": {},
   "outputs": [],
   "source": []
  }
 ],
 "metadata": {
  "kernelspec": {
   "display_name": "Python 3",
   "language": "python",
   "name": "python3"
  },
  "language_info": {
   "codemirror_mode": {
    "name": "ipython",
    "version": 3
   },
   "file_extension": ".py",
   "mimetype": "text/x-python",
   "name": "python",
   "nbconvert_exporter": "python",
   "pygments_lexer": "ipython3",
   "version": "3.7.4"
  }
 },
 "nbformat": 4,
 "nbformat_minor": 2
}
