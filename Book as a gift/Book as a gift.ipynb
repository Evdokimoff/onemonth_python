{
 "cells": [
  {
   "cell_type": "code",
   "execution_count": null,
   "metadata": {},
   "outputs": [],
   "source": [
    "\"\"\"This script takes the name of your friend \n",
    "and suggest you gift him the book \n",
    "from the top of most wished books\"\"\"\n",
    "\n",
    "import pandas as pd\n",
    "import random\n",
    "\n",
    "\"\"\"The most wished books was parsed from Amazon amazon.com/gp/most-wished-for/books. \n",
    "You can download it from my GitHub  \n",
    "https://github.com/Evdokimoff/onemonth_python/blob/master/amazon_most_wished_books100_122019.xlsx \n",
    "and then put it in the directory where you trying run the script.\"\"\"\n",
    "\n",
    "file = \"amazon_most_wished_books100_122019\"\n",
    "df = pd.read_excel(file, sheet_name=0)\n",
    "books = df['Book'].tolist()\n",
    "random_books = random.choice(books)\n",
    "friend_name = input(\"Please enter the name of your friend: \")\n",
    "print(f\"What book you can gift to {friend_name}?\")\n",
    "print(f\"You can gift to {friend_name} the book {random_books}\")\n",
    "#We can also add to this result the link to buy"
   ]
  }
 ],
 "metadata": {
  "kernelspec": {
   "display_name": "Python 3",
   "language": "python",
   "name": "python3"
  },
  "language_info": {
   "codemirror_mode": {
    "name": "ipython",
    "version": 3
   },
   "file_extension": ".py",
   "mimetype": "text/x-python",
   "name": "python",
   "nbconvert_exporter": "python",
   "pygments_lexer": "ipython3",
   "version": "3.7.4"
  }
 },
 "nbformat": 4,
 "nbformat_minor": 2
}
